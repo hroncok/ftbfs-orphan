{
 "cells": [
  {
   "cell_type": "code",
   "execution_count": 1,
   "metadata": {},
   "outputs": [],
   "source": [
    "import bugzilla\n",
    "import requests\n",
    "import time\n",
    "from datetime import datetime"
   ]
  },
  {
   "cell_type": "code",
   "execution_count": 2,
   "metadata": {},
   "outputs": [],
   "source": [
    "pagure_owner_alias = requests.get(\"https://src.fedoraproject.org/extras/pagure_owner_alias.json\").json()[\"rpms\"]"
   ]
  },
  {
   "cell_type": "code",
   "execution_count": 3,
   "metadata": {},
   "outputs": [
    {
     "data": {
      "text/plain": [
       "['7kaa',\n",
       " '8Kingdoms',\n",
       " '915resolution',\n",
       " '99soft-oss-parent',\n",
       " 'AcetoneISO2',\n",
       " 'Ajaxterm',\n",
       " 'CableSwig',\n",
       " 'Canna',\n",
       " 'CastPodder',\n",
       " 'CodeAnalyst-gui']"
      ]
     },
     "execution_count": 3,
     "metadata": {},
     "output_type": "execute_result"
    }
   ],
   "source": [
    "orphaned = [p for p in pagure_owner_alias if \"orphan\" in pagure_owner_alias[p]]\n",
    "orphaned[:10]"
   ]
  },
  {
   "cell_type": "code",
   "execution_count": 4,
   "metadata": {},
   "outputs": [],
   "source": [
    "bzapi = bugzilla.Bugzilla(\"bugzilla.redhat.com\")"
   ]
  },
  {
   "cell_type": "code",
   "execution_count": 5,
   "metadata": {},
   "outputs": [],
   "source": [
    "if not bzapi.logged_in:\n",
    "    bzapi.interactive_login()"
   ]
  },
  {
   "cell_type": "code",
   "execution_count": 6,
   "metadata": {},
   "outputs": [
    {
     "data": {
      "text/plain": [
       "274"
      ]
     },
     "execution_count": 6,
     "metadata": {},
     "output_type": "execute_result"
    }
   ],
   "source": [
    "TRACKER = 1700317\n",
    "\n",
    "query = bzapi.build_query(product=\"Fedora\", include_fields=[\"flags\", \"assigned_to\", \"component\", \"creation_time\"])\n",
    "query[\"blocks\"] = TRACKER\n",
    "query[\"status\"] = \"NEW\"\n",
    "bugzillas = bzapi.query(query)\n",
    "len(bugzillas)"
   ]
  },
  {
   "cell_type": "code",
   "execution_count": 7,
   "metadata": {},
   "outputs": [],
   "source": [
    "RELENG = \"releng@fedoraproject.org\"\n",
    "ORPHAN = \"extras-orphan@fedoraproject.org\""
   ]
  },
  {
   "cell_type": "code",
   "execution_count": 8,
   "metadata": {},
   "outputs": [],
   "source": [
    "pkgs_to_orphan = []\n",
    "bugs_to_reassign = []"
   ]
  },
  {
   "cell_type": "code",
   "execution_count": 9,
   "metadata": {},
   "outputs": [
    {
     "name": "stdout",
     "output_type": "stream",
     "text": [
      "rpms/nodejs-redent\n",
      "rpms/eclipse-testng\n",
      "rpms/cduce\n",
      "rpms/eclipse-checkstyle\n",
      "rpms/eclipse-m2e-mavenarchiver\n",
      "rpms/nodejs-esprima\n",
      "rpms/eclipse-m2e-core\n",
      "rpms/fop\n",
      "rpms/nodejs-finalhandler\n",
      "rpms/ocaml-deriving\n",
      "rpms/vdirsyncer\n",
      "rpms/nodejs-make-dir\n",
      "rpms/eclipse-egit\n",
      "rpms/eclipse-sgx\n",
      "rpms/graphite-web\n",
      "rpms/lbzip2\n",
      "rpms/tycho-extras\n",
      "rpms/gucharmap\n",
      "rpms/ocaml-sexplib\n",
      "rpms/nodejs-grunt-legacy-util\n",
      "rpms/nodejs-mock-git\n",
      "rpms/nodejs-negotiator\n",
      "rpms/rgbds\n",
      "rpms/nodejs-path-type\n",
      "rpms/dumb-init\n",
      "rpms/golang-github-10gen-openssl\n",
      "rpms/nodejs-encodeurl\n",
      "rpms/eclipse-license\n",
      "rpms/nodejs-jsonselect\n",
      "rpms/archaius\n",
      "rpms/lv2-kn0ck0ut\n",
      "rpms/scamper\n",
      "rpms/nodejs-temp-write\n",
      "rpms/ocaml-bitstring\n",
      "rpms/nodejs-mock-bin\n",
      "rpms/nodejs-eyes\n",
      "rpms/nodejs-load-grunt-tasks\n",
      "rpms/libgovirt\n",
      "rpms/nodejs-chai-fs\n",
      "rpms/ocaml-json-static\n",
      "rpms/erlpmd\n",
      "rpms/jove\n",
      "rpms/csstidy\n",
      "rpms/nodejs-xmlhttprequest\n",
      "rpms/zathura-cb\n",
      "rpms/eclipse-anyedit\n",
      "rpms/nodejs-gnode\n",
      "rpms/eclipse-m2e-apt\n",
      "rpms/lv2-abGate\n",
      "rpms/maven-checkstyle-plugin\n",
      "rpms/nodejs-moment\n",
      "rpms/ExchangeIR\n",
      "rpms/gipfel\n",
      "rpms/eclipse-m2e-workspace\n",
      "rpms/zookeeper\n",
      "rpms/maven-eclipse-plugin\n",
      "rpms/isdn4k-utils\n",
      "rpms/eclipse-subclipse\n",
      "rpms/nodejs-basic-auth\n",
      "rpms/python-alchimia\n",
      "rpms/nodejs-globby\n",
      "rpms/ioprocess\n",
      "rpms/erlang-cuttlefish\n",
      "rpms/couchdb\n",
      "rpms/python-gfm\n",
      "rpms/nodejs-tilejson\n",
      "rpms/giis\n",
      "rpms/camotics\n",
      "rpms/nodejs-htmlparser2\n",
      "rpms/nodejs-engine-dot-io-parser\n",
      "rpms/eclipse-m2e-antlr\n",
      "rpms/nodejs-select-hose\n",
      "rpms/nodejs-chai-cheerio\n",
      "rpms/multibit-commons\n",
      "rpms/nodejs-send\n",
      "rpms/ocaml-bin-prot\n",
      "rpms/ocaml-pgocaml\n",
      "rpms/eclipse-m2e-modello\n",
      "rpms/nodejs-buffertools\n",
      "rpms/python-sanic\n",
      "rpms/nodejs-css-select\n",
      "rpms/nodejs-only-shallow\n",
      "rpms/busybox\n",
      "rpms/python-cattrs\n",
      "rpms/erlang-erlando\n",
      "rpms/eclipse-m2e-wtp\n",
      "rpms/sassc\n",
      "rpms/glusterd2\n",
      "rpms/redeclipse\n",
      "rpms/nodejs-compressible\n",
      "rpms/eclipse-dltk\n",
      "rpms/nodejs-defence\n",
      "rpms/python-subunit2sql\n",
      "rpms/nodejs-dateformat\n",
      "rpms/nodejs-del\n",
      "rpms/libserf\n",
      "rpms/nodejs-flat-cache\n",
      "rpms/eclipse-gef\n",
      "rpms/nodejs-pkg-dir\n",
      "rpms/eclipse-color-theme\n",
      "rpms/glob2\n",
      "rpms/nodejs-git-remote-origin-url\n",
      "rpms/archaius\n",
      "rpms/eclipse-avr\n",
      "rpms/pyexiv2\n",
      "rpms/eclipse-epic\n",
      "rpms/eclipse-m2e-takari\n",
      "rpms/nodejs-delete\n",
      "rpms/libx86\n",
      "rpms/multibit-hardware\n",
      "rpms/nodejs-bunyan\n",
      "rpms/eclipse-pdt\n",
      "rpms/erlang-stdlib2\n",
      "rpms/eclipse-m2e-buildhelper\n",
      "rpms/nodejs-write\n",
      "rpms/nodejs-fake\n",
      "rpms/ocaml-mikmatch\n",
      "rpms/resiprocate\n",
      "rpms/eclipse-m2e-egit\n",
      "rpms/eclipse-m2e-sisu\n",
      "rpms/eclipse-remote\n",
      "rpms/ocamldsort\n",
      "rpms/zathura-djvu\n",
      "rpms/ocaml-bisect\n",
      "rpms/eclipse-m2e-maven-dependency-plugin\n",
      "rpms/python-k8sclient\n",
      "rpms/delve\n",
      "rpms/zathura-pdf-mupdf\n",
      "rpms/nodejs-grunt-contrib-csslint\n",
      "rpms/sqlite2\n",
      "rpms/eclipse-m2e-mavendev\n",
      "rpms/ocaml-type-conv\n",
      "rpms/eclipse-usage\n",
      "rpms/apt-cacher-ng\n",
      "rpms/ocaml-pa-monad\n",
      "rpms/swt-chart\n",
      "rpms/nodejs-method-override\n",
      "rpms/eclipse-emf\n",
      "rpms/utop\n",
      "rpms/bibus\n",
      "rpms/nodejs-vasync\n",
      "rpms/apt-cacher-ng\n",
      "rpms/merkaartor\n",
      "rpms/tycho\n",
      "rpms/eclipse-m2e-tycho\n",
      "rpms/perdition\n",
      "rpms/ferm\n",
      "rpms/nodejs-pkg-up\n",
      "rpms/eclipse-m2e-cxf\n",
      "rpms/nodejs-unique-stream\n",
      "rpms/eclipse-quickrex\n",
      "rpms/nodejs-cors\n",
      "rpms/guestfs-browser\n",
      "rpms/scilab\n",
      "rpms/ocaml-openin\n",
      "rpms/eclipse-webtools\n",
      "rpms/paulstretch\n",
      "rpms/erlang-riak_search\n",
      "rpms/eclipse-nls\n",
      "rpms/nodejs-find-cache-dir\n",
      "rpms/python-jira\n",
      "rpms/nodejs-import-local\n",
      "rpms/ExchangeIR\n",
      "rpms/zathura-ps\n",
      "rpms/nodejs-find-up\n",
      "rpms/python-cloudservers\n",
      "rpms/jdo-api\n",
      "rpms/nodejs-csslint\n",
      "rpms/clapham\n",
      "rpms/eclipse-m2e-plexus\n",
      "rpms/bval\n",
      "rpms/nodejs-commonmark\n",
      "rpms/zathura-pdf-poppler\n",
      "rpms/nodejs-tilelive\n",
      "rpms/nodejs-stylus\n",
      "rpms/nodejs-raw-body\n",
      "rpms/jogl2\n"
     ]
    }
   ],
   "source": [
    "for bug in bugzillas:\n",
    "    if bug.component in orphaned:\n",
    "        if bug.assigned_to != ORPHAN:\n",
    "            bugs_to_reassign.append(bug.id)\n",
    "        continue\n",
    "    needinfos = bug.get_flags(\"needinfo\") or []\n",
    "    for needinfo in needinfos:\n",
    "        if needinfo['requestee'] == bug.assigned_to:\n",
    "            break\n",
    "    else:\n",
    "        # no needinfo on assignee\n",
    "        continue\n",
    "    bug_state = 0\n",
    "    last_time = datetime.fromtimestamp(time.mktime(bug.creation_time.timetuple()))\n",
    "    for comment in bug.getcomments():\n",
    "        if comment[\"creator\"] != RELENG:\n",
    "            continue\n",
    "        if not comment[\"text\"].startswith(\"Dear Maintainer,\"):\n",
    "            continue\n",
    "        comment_time = datetime.fromtimestamp(time.mktime(comment[\"creation_time\"].timetuple()))\n",
    "        delta = comment_time - last_time\n",
    "        if bug_state == 0 and delta.days >= 7-1:\n",
    "            last_time = comment_time\n",
    "            bug_state = 1\n",
    "        elif bug_state == 1 and delta.days >= 3*7-1:\n",
    "            last_time = comment_time\n",
    "            bug_state = 2\n",
    "            break\n",
    "    delta = datetime.now() - last_time\n",
    "    if bug_state == 2 and delta.days >= 4*7-1:\n",
    "        to_orphan = f\"rpms/{bug.component}\"\n",
    "        pkgs_to_orphan.append(to_orphan)\n",
    "        print(to_orphan)\n",
    "        bugs_to_reassign.append(bug.id)"
   ]
  },
  {
   "cell_type": "code",
   "execution_count": 10,
   "metadata": {},
   "outputs": [
    {
     "name": "stdout",
     "output_type": "stream",
     "text": [
      "https://bugzilla.redhat.com/buglist.cgi?bug_id=1736290,1735164,1716525,1735008,1735116,1735139,1736200,1735135,1735216,1736205,1736340,1716546,1735855,1736243,1735122,1735161,1735310,1736046,1735984,1736988,1736929,1735327,1736358,1736222,1736270,1736276,1736588,1736281,1735104,1735282,1736192,1735130,1736237,1735458,1736083,1736644,1736302,1736474,1736337,1736249,1736203,1736241,1736000,1736177,1736346,1735193,1735890,1735057,1736321,1736995,1735112,1736218,1735133,1736080,1736095,1736272,1735414,1735257,1735147,1737002,1736096,1735803,1735162,1736173,1716488,1736217,1735800,1735186,1735052,1736499,1736308,1735250,1734998,1736228,1736195,1735132,1736292,1736176,1735058,1736149,1736294,1736335,1736353,1735142,1736174,1739634,1729908,1736186,1736989,1736279,1734993,1735115,1736478,1735187,1735148,1736637,1735270,1736579,1736180,1735118,1736189,1736540,1736188,1736190,1736050,1736208,1735127,1736282,1735117,1735267,1701227,1736215,1734940,1735113,1736465,1735125,1735145,1736191,1736056,1736150,1736175,1735155,1735191,1735134,1736318,1736204,1736350,1736584,1735137,1735144,1735160,1736362,1736996,1736336,1735138,1736505,1735071,1736997,1736220,1736709,1735140,1736359,1735166,1734938,1736352,1736737,1736247,1735124,1736938,1734966,1736314,1735456,1736107,1736928,1735146,1736415,1716412,1736283,1735136,1736310,1735159,1736185,1736950,1735328,1736646,1736351,1735167,1736410,1735189,1735152,1736206,1736504,1736229,1734882,1736999,1736207,1736491,1735821,1736187,1735018,1735143,1734994,1736178,1736998,1736309,1736299,1736285,1735884\n"
     ]
    }
   ],
   "source": [
    "print(\"https://bugzilla.redhat.com/buglist.cgi?bug_id=\" + \",\".join(str(b) for b in bugs_to_reassign))"
   ]
  }
 ],
 "metadata": {
  "kernelspec": {
   "display_name": "Python 3",
   "language": "python",
   "name": "python3"
  },
  "language_info": {
   "codemirror_mode": {
    "name": "ipython",
    "version": 3
   },
   "file_extension": ".py",
   "mimetype": "text/x-python",
   "name": "python",
   "nbconvert_exporter": "python",
   "pygments_lexer": "ipython3",
   "version": "3.7.5"
  }
 },
 "nbformat": 4,
 "nbformat_minor": 2
}
