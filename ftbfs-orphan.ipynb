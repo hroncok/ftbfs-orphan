{
 "cells": [
  {
   "cell_type": "code",
   "execution_count": 1,
   "metadata": {},
   "outputs": [],
   "source": [
    "import bugzilla\n",
    "import requests\n",
    "import time\n",
    "from datetime import datetime"
   ]
  },
  {
   "cell_type": "code",
   "execution_count": 2,
   "metadata": {},
   "outputs": [],
   "source": [
    "pagure_owner_alias = requests.get(\"https://src.fedoraproject.org/extras/pagure_owner_alias.json\").json()[\"rpms\"]"
   ]
  },
  {
   "cell_type": "code",
   "execution_count": 3,
   "metadata": {},
   "outputs": [
    {
     "data": {
      "text/plain": [
       "['8Kingdoms',\n",
       " '8sync',\n",
       " '915resolution',\n",
       " '99soft-oss-parent',\n",
       " 'AcetoneISO2',\n",
       " 'Ajaxterm',\n",
       " 'CPUFreqUtility',\n",
       " 'CableSwig',\n",
       " 'Canna',\n",
       " 'CastPodder']"
      ]
     },
     "execution_count": 3,
     "metadata": {},
     "output_type": "execute_result"
    }
   ],
   "source": [
    "orphaned = [p for p in pagure_owner_alias if \"orphan\" in pagure_owner_alias[p]]\n",
    "orphaned[:10]"
   ]
  },
  {
   "cell_type": "code",
   "execution_count": 4,
   "metadata": {},
   "outputs": [],
   "source": [
    "bzapi = bugzilla.Bugzilla(\"bugzilla.redhat.com\")"
   ]
  },
  {
   "cell_type": "code",
   "execution_count": 5,
   "metadata": {},
   "outputs": [
    {
     "data": {
      "text/plain": [
       "59"
      ]
     },
     "execution_count": 5,
     "metadata": {},
     "output_type": "execute_result"
    }
   ],
   "source": [
    "TRACKER = 1927309\n",
    "\n",
    "query = bzapi.build_query(product=\"Fedora\", include_fields=[\"flags\", \"assigned_to\", \"component\", \"creation_time\"])\n",
    "query[\"blocks\"] = TRACKER\n",
    "query[\"status\"] = \"NEW\"\n",
    "query[\"limit\"] = 1000\n",
    "bugzillas = bzapi.query(query)\n",
    "len(bugzillas)"
   ]
  },
  {
   "cell_type": "code",
   "execution_count": 6,
   "metadata": {},
   "outputs": [],
   "source": [
    "RELENG = \"releng@fedoraproject.org\"\n",
    "ORPHAN = \"extras-orphan@fedoraproject.org\""
   ]
  },
  {
   "cell_type": "code",
   "execution_count": 7,
   "metadata": {},
   "outputs": [],
   "source": [
    "pkgs_to_orphan = []\n",
    "bugs_to_reassign = []"
   ]
  },
  {
   "cell_type": "code",
   "execution_count": 8,
   "metadata": {},
   "outputs": [
    {
     "name": "stdout",
     "output_type": "stream",
     "text": [
      "rpms/erlang-riak_api\n",
      "rpms/erlang-riak_core\n",
      "rpms/forbidden-apis\n",
      "rpms/libcxl\n"
     ]
    }
   ],
   "source": [
    "for bug in bugzillas:\n",
    "    if bug.component in orphaned:\n",
    "        #if bug.assigned_to != ORPHAN:\n",
    "        #    bugs_to_reassign.append(bug.id)\n",
    "        continue\n",
    "    needinfos = bug.get_flags(\"needinfo\") or []\n",
    "    for needinfo in needinfos:\n",
    "        if needinfo.get('requestee') == bug.assigned_to:\n",
    "            break\n",
    "    else:\n",
    "        # no needinfo on assignee\n",
    "        continue\n",
    "    bug_state = 0\n",
    "    last_time = datetime.fromtimestamp(time.mktime(bug.creation_time.timetuple()))\n",
    "    for comment in bug.getcomments():\n",
    "        if comment[\"creator\"] != RELENG:\n",
    "            continue\n",
    "        if not comment[\"text\"].startswith(\"Dear Maintainer,\"):\n",
    "            continue\n",
    "        comment_time = datetime.fromtimestamp(time.mktime(comment[\"creation_time\"].timetuple()))\n",
    "        delta = comment_time - last_time\n",
    "        if bug_state == 0 and delta.days >= 7-1:\n",
    "            last_time = comment_time\n",
    "            bug_state = 1\n",
    "        elif bug_state == 1 and delta.days >= 3*7-1:\n",
    "            last_time = comment_time\n",
    "            bug_state = 2\n",
    "            break\n",
    "    delta = datetime.now() - last_time\n",
    "    if bug_state == 2 and delta.days >= 4*7-1:\n",
    "        to_orphan = f\"rpms/{bug.component}\"\n",
    "        pkgs_to_orphan.append(to_orphan)\n",
    "        #print(f\"    '{to_orphan}': 'https://bugzilla.redhat.com/{bug.id}',\")\n",
    "        print(to_orphan)\n",
    "        bugs_to_reassign.append(bug.id)"
   ]
  },
  {
   "cell_type": "code",
   "execution_count": 9,
   "metadata": {},
   "outputs": [
    {
     "name": "stdout",
     "output_type": "stream",
     "text": [
      "https://bugzilla.redhat.com/buglist.cgi?bug_id=1987459,1987460,1987484,1987643\n"
     ]
    }
   ],
   "source": [
    "print(\"https://bugzilla.redhat.com/buglist.cgi?bug_id=\" + \",\".join(str(b) for b in bugs_to_reassign))"
   ]
  },
  {
   "cell_type": "code",
   "execution_count": null,
   "metadata": {},
   "outputs": [],
   "source": []
  }
 ],
 "metadata": {
  "kernelspec": {
   "display_name": "Python 3",
   "language": "python",
   "name": "python3"
  },
  "language_info": {
   "codemirror_mode": {
    "name": "ipython",
    "version": 3
   },
   "file_extension": ".py",
   "mimetype": "text/x-python",
   "name": "python",
   "nbconvert_exporter": "python",
   "pygments_lexer": "ipython3",
   "version": "3.10.4"
  }
 },
 "nbformat": 4,
 "nbformat_minor": 2
}
