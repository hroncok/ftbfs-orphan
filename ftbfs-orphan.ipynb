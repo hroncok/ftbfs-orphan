{
 "cells": [
  {
   "cell_type": "code",
   "execution_count": 1,
   "metadata": {},
   "outputs": [],
   "source": [
    "import bugzilla\n",
    "import requests\n",
    "import time\n",
    "from datetime import datetime"
   ]
  },
  {
   "cell_type": "code",
   "execution_count": 2,
   "metadata": {},
   "outputs": [],
   "source": [
    "pagure_owner_alias = requests.get(\"https://src.fedoraproject.org/extras/pagure_owner_alias.json\").json()[\"rpms\"]"
   ]
  },
  {
   "cell_type": "code",
   "execution_count": 3,
   "metadata": {},
   "outputs": [
    {
     "data": {
      "text/plain": [
       "['8Kingdoms',\n",
       " '915resolution',\n",
       " '99soft-oss-parent',\n",
       " 'AcetoneISO2',\n",
       " 'Ajaxterm',\n",
       " 'CPUFreqUtility',\n",
       " 'CableSwig',\n",
       " 'Canna',\n",
       " 'CastPodder',\n",
       " 'CodeAnalyst-gui']"
      ]
     },
     "execution_count": 3,
     "metadata": {},
     "output_type": "execute_result"
    }
   ],
   "source": [
    "orphaned = [p for p in pagure_owner_alias if \"orphan\" in pagure_owner_alias[p]]\n",
    "orphaned[:10]"
   ]
  },
  {
   "cell_type": "code",
   "execution_count": 4,
   "metadata": {},
   "outputs": [],
   "source": [
    "bzapi = bugzilla.Bugzilla(\"bugzilla.redhat.com\")"
   ]
  },
  {
   "cell_type": "code",
   "execution_count": 5,
   "metadata": {},
   "outputs": [],
   "source": [
    "if not bzapi.logged_in:\n",
    "    bzapi.interactive_login()"
   ]
  },
  {
   "cell_type": "code",
   "execution_count": 6,
   "metadata": {},
   "outputs": [
    {
     "data": {
      "text/plain": [
       "63"
      ]
     },
     "execution_count": 6,
     "metadata": {},
     "output_type": "execute_result"
    }
   ],
   "source": [
    "TRACKER = 1868278\n",
    "\n",
    "query = bzapi.build_query(product=\"Fedora\", include_fields=[\"flags\", \"assigned_to\", \"component\", \"creation_time\"])\n",
    "query[\"blocks\"] = TRACKER\n",
    "query[\"status\"] = \"NEW\"\n",
    "bugzillas = bzapi.query(query)\n",
    "len(bugzillas)"
   ]
  },
  {
   "cell_type": "code",
   "execution_count": 7,
   "metadata": {},
   "outputs": [],
   "source": [
    "RELENG = \"releng@fedoraproject.org\"\n",
    "ORPHAN = \"extras-orphan@fedoraproject.org\""
   ]
  },
  {
   "cell_type": "code",
   "execution_count": 8,
   "metadata": {},
   "outputs": [],
   "source": [
    "pkgs_to_orphan = []\n",
    "bugs_to_reassign = []"
   ]
  },
  {
   "cell_type": "code",
   "execution_count": 9,
   "metadata": {},
   "outputs": [
    {
     "name": "stdout",
     "output_type": "stream",
     "text": [
      "rpms/biber\n",
      "rpms/python-pyriemann\n",
      "rpms/rubygem-xml-simple\n",
      "rpms/sugar-measure\n",
      "rpms/Inventor\n",
      "rpms/kjots\n",
      "rpms/plasma-pass\n",
      "rpms/paris-traceroute\n",
      "rpms/python-aiomqtt\n",
      "rpms/python-holidays\n",
      "rpms/subfinder\n",
      "rpms/rtags\n",
      "rpms/xorg-x11-drv-nouveau\n",
      "rpms/libclc\n",
      "rpms/python-sshtunnel\n",
      "rpms/emacs-auctex\n",
      "rpms/aespipe\n",
      "rpms/manifest-tool\n",
      "rpms/papaki\n",
      "rpms/koules\n",
      "rpms/php-opencloud-openstack\n",
      "rpms/xwota\n",
      "rpms/icebreaker\n",
      "rpms/rubygem-haml\n",
      "rpms/rubygem-maruku\n",
      "rpms/vagrant-lxc\n",
      "rpms/python-sphinxcontrib-issuetracker\n",
      "rpms/erlang-eper\n",
      "rpms/htmldoc\n",
      "rpms/emacs-haskell-mode\n",
      "rpms/llvm10\n",
      "rpms/php-composer-installers\n",
      "rpms/php-guzzlehttp-psr7\n",
      "rpms/php-typo3-phar-stream-wrapper\n",
      "rpms/geronimo-osgi-support\n",
      "rpms/puppet\n",
      "rpms/oci-kvm-hook\n",
      "rpms/opam\n",
      "rpms/lmms\n",
      "rpms/emacs-lookup\n",
      "rpms/flannel\n",
      "rpms/coffee-script\n",
      "rpms/libgta\n",
      "rpms/openvas-gsa\n",
      "rpms/openvas-libraries\n",
      "rpms/openvas-manager\n",
      "rpms/openvas-scanner\n",
      "rpms/grub2\n",
      "rpms/python-transitions\n"
     ]
    }
   ],
   "source": [
    "for bug in bugzillas:\n",
    "    if bug.component in orphaned:\n",
    "        if bug.assigned_to != ORPHAN:\n",
    "            bugs_to_reassign.append(bug.id)\n",
    "        continue\n",
    "    needinfos = bug.get_flags(\"needinfo\") or []\n",
    "    for needinfo in needinfos:\n",
    "        if needinfo.get('requestee') == bug.assigned_to:\n",
    "            break\n",
    "    else:\n",
    "        # no needinfo on assignee\n",
    "        continue\n",
    "    bug_state = 0\n",
    "    last_time = datetime.fromtimestamp(time.mktime(bug.creation_time.timetuple()))\n",
    "    for comment in bug.getcomments():\n",
    "        if comment[\"creator\"] != RELENG:\n",
    "            continue\n",
    "        if not comment[\"text\"].startswith(\"Dear Maintainer,\"):\n",
    "            continue\n",
    "        comment_time = datetime.fromtimestamp(time.mktime(comment[\"creation_time\"].timetuple()))\n",
    "        delta = comment_time - last_time\n",
    "        if bug_state == 0 and delta.days >= 7-1:\n",
    "            last_time = comment_time\n",
    "            bug_state = 1\n",
    "        elif bug_state == 1 and delta.days >= 3*7-1:\n",
    "            last_time = comment_time\n",
    "            bug_state = 2\n",
    "            break\n",
    "    delta = datetime.now() - last_time\n",
    "    if bug_state == 2 and delta.days >= 4*7-1:\n",
    "        to_orphan = f\"rpms/{bug.component}\"\n",
    "        pkgs_to_orphan.append(to_orphan)\n",
    "        print(to_orphan)\n",
    "        bugs_to_reassign.append(bug.id)"
   ]
  },
  {
   "cell_type": "code",
   "execution_count": 10,
   "metadata": {},
   "outputs": [
    {
     "name": "stdout",
     "output_type": "stream",
     "text": [
      "https://bugzilla.redhat.com/buglist.cgi?bug_id=1905190,1917401,1923284,1923292,1923296,1923316,1923317,1923329,1923330,1923332,1923334,1923338,1923340,1923345,1923365,1923372,1923373,1923400,1923418,1923424,1923427,1923428,1923432,1923437,1923449,1923450,1923475,1923477,1923506,1923520,1923557,1923588,1923606,1923617,1923618,1923619,1923631,1923634,1923637,1923645,1923652,1923676,1923682,1923684,1923686,1923687,1923702,1923703,1923704,1923705,1924713,1926826\n"
     ]
    }
   ],
   "source": [
    "print(\"https://bugzilla.redhat.com/buglist.cgi?bug_id=\" + \",\".join(str(b) for b in bugs_to_reassign))"
   ]
  },
  {
   "cell_type": "code",
   "execution_count": null,
   "metadata": {},
   "outputs": [],
   "source": []
  }
 ],
 "metadata": {
  "kernelspec": {
   "display_name": "Python 3",
   "language": "python",
   "name": "python3"
  },
  "language_info": {
   "codemirror_mode": {
    "name": "ipython",
    "version": 3
   },
   "file_extension": ".py",
   "mimetype": "text/x-python",
   "name": "python",
   "nbconvert_exporter": "python",
   "pygments_lexer": "ipython3",
   "version": "3.8.10"
  }
 },
 "nbformat": 4,
 "nbformat_minor": 2
}
